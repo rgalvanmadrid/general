{
 "cells": [
  {
   "cell_type": "markdown",
   "metadata": {},
   "source": [
    "**Notebook to investigate the Young Stellar Object R CrA in Corona Australis with ALMA and other archival data** \\\n",
    "More information on querying the ALMA archive programatically: \\\n",
    "https://almascience.eso.org/alma-data/archive/archive-notebooks \\\n",
    "Documentation for *astroquery*: \\\n",
    "https://astroquery.readthedocs.io/"
   ]
  },
  {
   "cell_type": "code",
   "execution_count": 8,
   "metadata": {},
   "outputs": [],
   "source": [
    "from astroquery.simbad import Simbad\n",
    "from astroquery.alma import Alma\n",
    "from astropy import coordinates\n",
    "import astropy.units as u"
   ]
  },
  {
   "cell_type": "code",
   "execution_count": 9,
   "metadata": {},
   "outputs": [
    {
     "name": "stdout",
     "output_type": "stream",
     "text": [
      "MAIN_ID        RA           DEC      ...     COO_BIBCODE     SCRIPT_NUMBER_ID\n",
      "            \"h:m:s\"       \"d:m:s\"    ...                                     \n",
      "-------- ------------- ------------- ... ------------------- ----------------\n",
      "V* R CrA 19 01 53.6764 -36 57 08.299 ... 2020yCat.1350....0G                1\n"
     ]
    }
   ],
   "source": [
    "# Query Simbad by source name and retrieve coordinates, likely from YSO in the optical or near-IR\n",
    "result_table = Simbad.query_object(\"R CrA\")\n",
    "result_table.pprint()\n",
    "RA_Simbad = result_table['RA']\n",
    "Dec_Simbad = result_table['DEC']"
   ]
  },
  {
   "cell_type": "code",
   "execution_count": 10,
   "metadata": {},
   "outputs": [
    {
     "name": "stdout",
     "output_type": "stream",
     "text": [
      "MAIN_ID        RA           DEC      ...     COO_BIBCODE     SCRIPT_NUMBER_ID\n",
      "            \"h:m:s\"       \"d:m:s\"    ...                                     \n",
      "-------- ------------- ------------- ... ------------------- ----------------\n",
      "V* R CrA 19 01 53.6764 -36 57 08.299 ... 2020yCat.1350....0G                1\n"
     ]
    }
   ],
   "source": [
    "# Also, define coordinates of YSO from VLA data. \n",
    "# Reference: Liu, Galván-Madrid, Forbrich et al. (2014)\n",
    "# https://ui.adsabs.harvard.edu/abs/2014ApJ...780..155L/abstract \n",
    "RA_VLA = \"19h01m53.686s\"\n",
    "Dec_VLA = \"-36d57m08.0s\"\n",
    "c = coordinates.SkyCoord(RA_VLA, Dec_VLA, frame='icrs')\n",
    "r = 1 * u.arcsec\n",
    "result_table = Simbad.query_region(c, radius=r)\n",
    "result_table.pprint()"
   ]
  },
  {
   "cell_type": "code",
   "execution_count": 11,
   "metadata": {
    "scrolled": false
   },
   "outputs": [
    {
     "name": "stdout",
     "output_type": "stream",
     "text": [
      "\n",
      "Most common ALMA query keywords are listed below. These keywords are part of the ALMA ObsCore model, an IVOA standard for metadata representation (3rd column). They were also present in original ALMA Web form and, for backwards compatibility can be accessed with their old names (2nd column).\n",
      "More elaborate queries on the ObsCore model are possible with `query_sia` or `query_tap` methods\n",
      "  Description                       Original ALMA keyword               ObsCore keyword                    \n",
      "-------------------------------------------------------------------------------------------------------\n",
      "\n",
      "Position\n",
      "  Source name (astropy Resolver)    source_name_resolver                SkyCoord.from_name                 \n",
      "  Source name (ALMA)                source_name_alma                    target_name                        \n",
      "  RA Dec (Sexagesimal)              ra_dec                              s_ra, s_dec                        \n",
      "  Galactic (Degrees)                galactic                            gal_longitude, gal_latitude        \n",
      "  Angular resolution (arcsec)       spatial_resolution                  spatial_resolution                 \n",
      "  Largest angular scale (arcsec)    spatial_scale_max                   spatial_scale_max                  \n",
      "  Field of view (arcsec)            fov                                 s_fov                              \n",
      "\n",
      "Energy\n",
      "  Frequency (GHz)                   frequency                           frequency                          \n",
      "  Bandwidth (Hz)                    bandwidth                           bandwidth                          \n",
      "  Spectral resolution (KHz)         spectral_resolution                 em_resolution                      \n",
      "  Band                              band_list                           band_list                          \n",
      "\n",
      "Time\n",
      "  Observation date                  start_date                          t_min                              \n",
      "  Integration time (s)              integration_time                    t_exptime                          \n",
      "\n",
      "Polarization\n",
      "  Polarisation type (Single, Dual, Full) polarisation_type                   pol_states                         \n",
      "\n",
      "Observation\n",
      "  Line sensitivity (10 km/s) (mJy/beam) line_sensitivity                    sensitivity_10kms                  \n",
      "  Continuum sensitivity (mJy/beam)  continuum_sensitivity               cont_sensitivity_bandwidth         \n",
      "  Water vapour (mm)                 water_vapour                        pvw                                \n",
      "\n",
      "Project\n",
      "  Project code                      project_code                        proposal_id                        \n",
      "  Project title                     project_title                       obs_title                          \n",
      "  PI name                           pi_name                             obs_creator_name                   \n",
      "  Proposal authors                  proposal_authors                    proposal_authors                   \n",
      "  Project abstract                  project_abstract                    proposal_abstract                  \n",
      "  Publication count                 publication_count                   NA                                 \n",
      "  Science keyword                   science_keyword                     science_keyword                    \n",
      "\n",
      "Publication\n",
      "  Bibcode                           bibcode                             bib_reference                      \n",
      "  Title                             pub_title                           pub_title                          \n",
      "  First author                      first_author                        first_author                       \n",
      "  Authors                           authors                             authors                            \n",
      "  Abstract                          pub_abstract                        pub_abstract                       \n",
      "  Year                              publication_year                    pub_year                           \n",
      "\n",
      "Options\n",
      "  Public data only                  public_data                         data_rights                        \n",
      "  Science observations only         science_observation                 science_observation                \n",
      "\n",
      "Examples of queries:\n",
      "Alma.query('proposal_id':'2011.0.00131.S'}\n",
      "Alma.query({'band_list': ['5', '7']}\n",
      "Alma.query({'source_name_alma': 'GRB021004'})\n",
      "Alma.query(payload=dict(project_code='2017.1.01355.L', source_name_alma='G008.67'))\n"
     ]
    }
   ],
   "source": [
    "# Start digging in the ALMA archive, first check what we can do: \n",
    "Alma.help()\n",
    "#Instantiate object for query: \n",
    "alma = Alma()"
   ]
  },
  {
   "cell_type": "code",
   "execution_count": 18,
   "metadata": {},
   "outputs": [],
   "source": [
    "# Define parameters for data query\n",
    "# help(alma_data.query) \n",
    "band_list = [3]"
   ]
  },
  {
   "cell_type": "code",
   "execution_count": 19,
   "metadata": {},
   "outputs": [
    {
     "name": "stdout",
     "output_type": "stream",
     "text": [
      "     obs_publisher_did      obs_collection ... collections   pi_userid  \n",
      "                                           ...                          \n",
      "--------------------------- -------------- ... ----------- -------------\n",
      "ADS/JAO.ALMA#2019.1.01074.S           ALMA ...                mjmaureira\n",
      "ADS/JAO.ALMA#2019.1.01074.S           ALMA ...                mjmaureira\n",
      "ADS/JAO.ALMA#2019.1.01074.S           ALMA ...                mjmaureira\n",
      "ADS/JAO.ALMA#2019.1.01074.S           ALMA ...                mjmaureira\n",
      "ADS/JAO.ALMA#2018.1.01205.L           ALMA ...                 syamamoto\n",
      "ADS/JAO.ALMA#2018.1.01205.L           ALMA ...                 syamamoto\n",
      "ADS/JAO.ALMA#2018.1.01205.L           ALMA ...                 syamamoto\n",
      "ADS/JAO.ALMA#2018.1.01205.L           ALMA ...                 syamamoto\n",
      "ADS/JAO.ALMA#2018.1.01205.L           ALMA ...                 syamamoto\n",
      "ADS/JAO.ALMA#2018.1.01205.L           ALMA ...                 syamamoto\n",
      "                        ...            ... ...         ...           ...\n",
      "ADS/JAO.ALMA#2022.1.00131.S           ALMA ...             adeleplunkett\n",
      "ADS/JAO.ALMA#2022.1.00131.S           ALMA ...             adeleplunkett\n",
      "ADS/JAO.ALMA#2022.1.00131.S           ALMA ...             adeleplunkett\n",
      "ADS/JAO.ALMA#2022.1.00131.S           ALMA ...             adeleplunkett\n",
      "ADS/JAO.ALMA#2022.1.00131.S           ALMA ...             adeleplunkett\n",
      "ADS/JAO.ALMA#2022.1.00131.S           ALMA ...             adeleplunkett\n",
      "ADS/JAO.ALMA#2022.1.00131.S           ALMA ...             adeleplunkett\n",
      "ADS/JAO.ALMA#2022.1.00131.S           ALMA ...             adeleplunkett\n",
      "ADS/JAO.ALMA#2022.1.00131.S           ALMA ...             adeleplunkett\n",
      "ADS/JAO.ALMA#2022.1.00131.S           ALMA ...             adeleplunkett\n",
      "Length = 48 rows\n"
     ]
    }
   ],
   "source": [
    "# Make data query: \n",
    "alma_data = alma.query_region(c, 65*u.arcsec, band_list=band_list)\n",
    "print(alma_data)\n",
    "alma_data.to"
   ]
  },
  {
   "cell_type": "code",
   "execution_count": null,
   "metadata": {},
   "outputs": [],
   "source": []
  }
 ],
 "metadata": {
  "kernelspec": {
   "display_name": "Python 3",
   "language": "python",
   "name": "python3"
  },
  "language_info": {
   "codemirror_mode": {
    "name": "ipython",
    "version": 3
   },
   "file_extension": ".py",
   "mimetype": "text/x-python",
   "name": "python",
   "nbconvert_exporter": "python",
   "pygments_lexer": "ipython3",
   "version": "3.7.3"
  }
 },
 "nbformat": 4,
 "nbformat_minor": 2
}
