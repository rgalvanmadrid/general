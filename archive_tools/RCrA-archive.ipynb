{
 "cells": [
  {
   "cell_type": "markdown",
   "metadata": {},
   "source": [
    "Notebook to investigate the Young Stellar Object R CrA in Corona Australis with ALMA and other archival data"
   ]
  },
  {
   "cell_type": "code",
   "execution_count": 5,
   "metadata": {},
   "outputs": [],
   "source": [
    "from astroquery.simbad import Simbad\n",
    "from astropy import coordinates\n",
    "import astropy.units as u"
   ]
  },
  {
   "cell_type": "code",
   "execution_count": 9,
   "metadata": {},
   "outputs": [
    {
     "name": "stdout",
     "output_type": "stream",
     "text": [
      "MAIN_ID        RA           DEC      RA_PREC DEC_PREC COO_ERR_MAJA COO_ERR_MINA COO_ERR_ANGLE COO_QUAL COO_WAVELENGTH     COO_BIBCODE     SCRIPT_NUMBER_ID\n",
      "            \"h:m:s\"       \"d:m:s\"                         mas          mas           deg                                                                  \n",
      "-------- ------------- ------------- ------- -------- ------------ ------------ ------------- -------- -------------- ------------------- ----------------\n",
      "V* R CrA 19 01 53.6764 -36 57 08.299      14       14        0.435        0.417            90        A              O 2020yCat.1350....0G                1\n"
     ]
    }
   ],
   "source": [
    "# Query Simbad by source name and retrieve coordinates, likely from YSO in the optical or near-IR\n",
    "result_table = Simbad.query_object(\"R CrA\")\n",
    "result_table.pprint()\n",
    "RA_Simbad = result_table['RA']\n",
    "Dec_Simbad = result_table['DEC']"
   ]
  },
  {
   "cell_type": "code",
   "execution_count": 10,
   "metadata": {},
   "outputs": [],
   "source": [
    "# Also, define coordinates of YSO from VLA data. \n",
    "# Reference: Liu, Galván-Madrid, Forbrich et al. (2014)\n",
    "# https://ui.adsabs.harvard.edu/abs/2014ApJ...780..155L/abstract \n",
    "RA_VLA = "
   ]
  },
  {
   "cell_type": "code",
   "execution_count": null,
   "metadata": {},
   "outputs": [],
   "source": []
  },
  {
   "cell_type": "code",
   "execution_count": null,
   "metadata": {},
   "outputs": [],
   "source": []
  }
 ],
 "metadata": {
  "kernelspec": {
   "display_name": "Python 3 (ipykernel)",
   "language": "python",
   "name": "python3"
  },
  "language_info": {
   "codemirror_mode": {
    "name": "ipython",
    "version": 3
   },
   "file_extension": ".py",
   "mimetype": "text/x-python",
   "name": "python",
   "nbconvert_exporter": "python",
   "pygments_lexer": "ipython3",
   "version": "3.11.4"
  }
 },
 "nbformat": 4,
 "nbformat_minor": 2
}
