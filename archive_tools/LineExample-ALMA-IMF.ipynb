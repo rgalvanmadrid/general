{
 "cells": [
  {
   "cell_type": "markdown",
   "metadata": {},
   "source": [
    "**Notebook to download and make some basic analysis of line data from the public releases of the ALMA-IMF Large Program**\\\n",
    "Line data releases are hosted by Harvard's Dataverse service:\\\n",
    "https://dataverse.harvard.edu/dataverse/alma-imf "
   ]
  },
  {
   "cell_type": "code",
   "execution_count": 3,
   "metadata": {},
   "outputs": [],
   "source": [
    "import numpy as np\n",
    "import os\n",
    "import astropy.units as u\n",
    "from astropy.io import fits"
   ]
  },
  {
   "cell_type": "code",
   "execution_count": 4,
   "metadata": {},
   "outputs": [],
   "source": [
    "'''\n",
    "Recombination lines poentially within the data set: \n",
    "-----\n",
    "H30alpha = 2.31900939e+11 (B6 spw7)\n",
    "H41alpha = 9.20344387e+10 (B3 spw1)\n",
    "-----\n",
    "He30alpha = 2.31995455e+11 (B6 spw7)\n",
    "He41alpha = 9.20719490e+10 (B3 spw1)\n",
    "-----\n",
    "He+48alpha = 2.30713295e+11 (B6 spw5)\n",
    "He+49alpha = 2.17009401e+11 (slightly out of B6 spw1)\n",
    "He+63alpha = 1.02787001e+11 (B3 spw2)\n",
    "'''\n",
    "nu_Heplus = np.array([1.02787001,2.30713295])*1e11*u.Hz"
   ]
  },
  {
   "cell_type": "code",
   "execution_count": 14,
   "metadata": {},
   "outputs": [],
   "source": [
    "# Read in cube and modify header frequency to that of recombination line \n",
    "data_path = '/home/roberto/ALMA_IMF/ionized_He/data'\n",
    "cubefile = 'W51-IRS2_B6_spw5_12M_spw5.JvM.image.pbcor.statcont.contsub.fits'\n",
    "cube_path = os.path.join(data_path, cubefile)\n",
    "fits.setval(cube_path, 'RESTFRQ', value=nu_Heplus[1].value, ext=0)"
   ]
  },
  {
   "cell_type": "code",
   "execution_count": 15,
   "metadata": {},
   "outputs": [
    {
     "name": "stdout",
     "output_type": "stream",
     "text": [
      "230713295000.0\n"
     ]
    }
   ],
   "source": [
    "test = fits.getheader(cube_path)\n",
    "print(test['RESTFRQ'])"
   ]
  },
  {
   "cell_type": "code",
   "execution_count": null,
   "metadata": {},
   "outputs": [],
   "source": []
  }
 ],
 "metadata": {
  "kernelspec": {
   "display_name": "Python 3",
   "language": "python",
   "name": "python3"
  },
  "language_info": {
   "codemirror_mode": {
    "name": "ipython",
    "version": 3
   },
   "file_extension": ".py",
   "mimetype": "text/x-python",
   "name": "python",
   "nbconvert_exporter": "python",
   "pygments_lexer": "ipython3",
   "version": "3.7.3"
  }
 },
 "nbformat": 4,
 "nbformat_minor": 2
}
